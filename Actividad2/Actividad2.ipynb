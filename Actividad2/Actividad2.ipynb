{
  "nbformat": 4,
  "nbformat_minor": 0,
  "metadata": {
    "colab": {
      "name": "Actividad2.ipynb",
      "provenance": [],
      "collapsed_sections": [
        "N10OgHP6sJ1n",
        "wz1yiCiXvfIX",
        "ES06NSVXzxHB"
      ]
    },
    "kernelspec": {
      "name": "python3",
      "display_name": "Python 3"
    }
  },
  "cells": [
    {
      "cell_type": "markdown",
      "metadata": {
        "id": "N10OgHP6sJ1n"
      },
      "source": [
        "# **Mi primer ejemplo**\n"
      ]
    },
    {
      "cell_type": "code",
      "metadata": {
        "id": "BKLn6eZHslwj"
      },
      "source": [
        "#primer renglon es para paquetes\n",
        "import numpy as np\n",
        "\n",
        "def area(x, y):\n",
        "  return x*y\n",
        "\n",
        "print(\"Proporciona el largo y altura del rectángulo: \", end=\" \")\n",
        "l = float(input())\n",
        "w = float(input())\n",
        "a = area(l, w)\n",
        "\n",
        "#imprime en formato libre\n",
        "print(\"\\nArea =\", a)\n",
        "#imprime con 2 decimales\n",
        "#print(\"\\nArea = {:.2f}\" .format(a))"
      ],
      "execution_count": null,
      "outputs": []
    },
    {
      "cell_type": "markdown",
      "metadata": {
        "id": "Xn8BpRItqz4l"
      },
      "source": [
        "# Ejercicio 1"
      ]
    },
    {
      "cell_type": "markdown",
      "metadata": {
        "id": "ES06NSVXzxHB"
      },
      "source": [
        "## **Area de un circulo**"
      ]
    },
    {
      "cell_type": "markdown",
      "metadata": {
        "id": "4Rkfn4s8ck6L"
      },
      "source": [
        "En este programa se calcula el área de un circula utilizando la formula: $$\\pi r^2$$ donde $r$ es el radio del circulo."
      ]
    },
    {
      "cell_type": "code",
      "metadata": {
        "id": "beEg1tRjPnMV"
      },
      "source": [
        "# Se nombran los paquetes que se necesitan\n",
        "import numpy as np\n",
        "\n",
        "# Definimos una función de una variable para calcular el área\n",
        "def area(r):\n",
        "  return np.pi*r**2\n",
        "\n",
        "print(\"Proporciona el largo del radio: \", end=\" \") # Se pide el valor del radio\n",
        "r = float(input()) # Se guarda el valor del radio\n",
        "a = area(r) # se calcula el área\n",
        "\n",
        "#imprime el valor del área con 2 decimales\n",
        "print(\"\\nArea = {:.2f}\" .format(a))"
      ],
      "execution_count": null,
      "outputs": []
    },
    {
      "cell_type": "markdown",
      "metadata": {
        "id": "wz1yiCiXvfIX"
      },
      "source": [
        "## **Area de una elipse**"
      ]
    },
    {
      "cell_type": "markdown",
      "metadata": {
        "id": "tbKNE8tygM4a"
      },
      "source": [
        "En este programa se calcula el área de una elipse utlizando la formula: $$\\pi rR$$ donde $r$ es el radio menor y $R$ el radio mayor."
      ]
    },
    {
      "cell_type": "code",
      "metadata": {
        "id": "ZVYVlAfNwikb"
      },
      "source": [
        "# Se llaman los paquetes que se necesitan\n",
        "import numpy as np\n",
        "\n",
        "# Se define una función de dos variables para calcular el área\n",
        "def area(r, R):\n",
        "  return np.pi*r*R\n",
        "# Se piden los datos, se guardan y se calcula el área\n",
        "print(\"Proporciona el largo del radio mayor: \", end=\" \")\n",
        "r = float(input())\n",
        "print(\"Proporciona el largo del radio menor: \", end=\" \")\n",
        "R = float(input())\n",
        "a = area(r, R)\n",
        "\n",
        "#imprime  en formato libre con 2 decimales\n",
        "print(\"\\nArea = {:.2f}\" .format(a))"
      ],
      "execution_count": null,
      "outputs": []
    },
    {
      "cell_type": "markdown",
      "metadata": {
        "id": "5-8eYq5BPNMW"
      },
      "source": [
        "## **Volumen de una esfera**"
      ]
    },
    {
      "cell_type": "markdown",
      "metadata": {
        "id": "To7qUfWEgfBB"
      },
      "source": [
        "En este programa se calcula el volumen de una esfera mediante la formula: $$\\frac{4}{3}\\pi r^3$$ donde $r$ es el radio de la esfera."
      ]
    },
    {
      "cell_type": "code",
      "metadata": {
        "id": "Vr7OpRoOPS6I"
      },
      "source": [
        "# Se llaman los paquetes que se necesitan\n",
        "import numpy as np\n",
        "\n",
        "# Se define una función de una variable para calcular el volumen\n",
        "def volumen(r):\n",
        "  return (4/3*np.pi*r**3)\n",
        "\n",
        "# Se piden los datos, se guardan y se calcula el volumen\n",
        "print(\"Proporciona el largo del radio de la esfera: \", end=\" \")\n",
        "r = float(input())\n",
        "v = volumen(r)\n",
        "\n",
        "#imprime el valor del volumen en formato librecon 2 decimales\n",
        "print(\"\\nVolumen = {:.2f}\" .format(v))"
      ],
      "execution_count": null,
      "outputs": []
    },
    {
      "cell_type": "markdown",
      "metadata": {
        "id": "SkrFwJfRPUoW"
      },
      "source": [
        "## **Volumen de un cilindro circular**"
      ]
    },
    {
      "cell_type": "markdown",
      "metadata": {
        "id": "hkFzYD1Egslj"
      },
      "source": [
        "En este programa se calcula el volumend de un cilindro circular mediante la formula: $$\\pi r^2h$$ donde $r$ es el radio de la base circular y $h$ es la altura del cilindro"
      ]
    },
    {
      "cell_type": "code",
      "metadata": {
        "id": "4y01hoK7Pb8W"
      },
      "source": [
        "# Se llaman los paquetes que se necesitan\n",
        "import numpy as np\n",
        "\n",
        "# Se define una función de dos variables para calcular el volumen\n",
        "def volumen(r, h):\n",
        "  return np.pi*r**2*h\n",
        "\n",
        "# Se piden los datos, se guardan y se calcula el volumen\n",
        "print(\"Proporciona el largo del radio: \", end=\" \")\n",
        "r = float(input())\n",
        "print(\"Proporciona la altura del cilindro: \", end=\" \")\n",
        "h = float(input())\n",
        "v = volumen(r, h)\n",
        "\n",
        "# Imprime el valor del volumen en formato librecon 2 decimales\n",
        "print(\"\\nVolumen = {:.2f}\" .format(v))"
      ],
      "execution_count": null,
      "outputs": []
    },
    {
      "cell_type": "markdown",
      "metadata": {
        "id": "6IxuiCXXrK_z"
      },
      "source": [
        "# Ejercicio 2"
      ]
    },
    {
      "cell_type": "markdown",
      "metadata": {
        "id": "YhRxhsFL805l"
      },
      "source": [
        "## **Raíz cuadrada para valores reales**"
      ]
    },
    {
      "cell_type": "markdown",
      "metadata": {
        "id": "tQM6RMfEfXqG"
      },
      "source": [
        "En este programa se calculan las raices de una ecuación cuadratica de la forma:\n",
        "$$ax^2+bx+c=0$$ empleando la formula general:\n",
        "$$x=\\frac{-b±\\sqrt{b^2-4ac}}{2a}$$"
      ]
    },
    {
      "cell_type": "code",
      "metadata": {
        "id": "T9x0uv_Y80Fh"
      },
      "source": [
        "# Se nombran los paquetes que se necesitan\n",
        "import numpy as np\n",
        "\n",
        "# Se define una función de tres variables para calcular las raices\n",
        "def raiz1(a, b, c):\n",
        "  return (-b+np.sqrt(b**2-4*a*c))/(2*a)\n",
        "def raiz2(a, b, c):\n",
        "  return (-b-np.sqrt(b**2-4*a*c))/(2*a)\n",
        "\n",
        "# Se piden los datos\n",
        "print(\"Proporciona el coeficiente de segundo grado de la ecuación cuadratica: \", end=\" \")\n",
        "a = float(input())\n",
        "print(\"Proporciona el coeficiente de primer grado de la ecuación cuadratica: \", end=\" \")\n",
        "b = float(input())\n",
        "print(\"Proporciona el coeficiente constante de la ecuación cuadratica: \", end=\" \")\n",
        "c = float(input())\n",
        "# Se calcula el determinante de la raiz\n",
        "d = (b**2-4*a*c)\n",
        "\n",
        "# Si el determinante es negativo\n",
        "if (d < 0):\n",
        "  print(\"No tiene soluciones reales\")\n",
        "  \n",
        "# Si el determinante no es negativo se calculan las raices\n",
        "else:\n",
        "  r1 = raiz1(a, b, c)\n",
        "  r2 = raiz2(a, b, c)\n",
        "  print(\"\\nX1 = {:.2f}\" .format(r1))\n",
        "  print(\"\\nX2 = {:.2f}\" .format(r2))\n",
        "\n"
      ],
      "execution_count": null,
      "outputs": []
    },
    {
      "cell_type": "markdown",
      "metadata": {
        "id": "v6Fcdm7frVUI"
      },
      "source": [
        "# Ejercicio 3"
      ]
    },
    {
      "cell_type": "markdown",
      "metadata": {
        "id": "9Cua4WAegD8L"
      },
      "source": [
        "##**Método babilonio** "
      ]
    },
    {
      "cell_type": "markdown",
      "metadata": {
        "id": "Skh4__WMiEFA"
      },
      "source": [
        "Se implementa el método Babilonio para calcular la raíz cuadrada de un número S, cuando la sucesíon converja a un error menor a 0.01. Se emplean la siguiente susesión: $$x_{n+1}=\\frac{1}{2}\\Bigg( x_n+\\frac{S}{x_n}\\Bigg)$$"
      ]
    },
    {
      "cell_type": "code",
      "metadata": {
        "id": "-bmKkUbYgKuP"
      },
      "source": [
        "# Se nombran las bibliotecas que se necesitan\n",
        "import numpy as np\n",
        "\n",
        "# Se define la tolerancia de error\n",
        "tol = 0.01\n",
        "\n",
        "# Se piden el numero del que se calcula la raíz\n",
        "print(\"Proporciona el número del cual deseas encontrar la raiz: \", end=\" \")\n",
        "s = float(input())\n",
        "# Se pide una aproximación de la raiz\n",
        "print(\"Proporciona un número que se aproxime a la raiz: \", end=\" \")\n",
        "x0 = float(input())\n",
        "\n",
        "# Se calcula la raiz\n",
        "while e > tol:\n",
        "    xn = (1/2)*(x0+(s/x0))\n",
        "    e = abs((x0-xn)/x0)\n",
        "    x0 = xn\n",
        "# Cuando se llega al margen de error deseado se muestra el valor real\n",
        "# y la aproximacion de la raiz junto con el error\n",
        "    if (e<tol):\n",
        "      print(\"valor real\", (np.sqrt(s)))\n",
        "      print(\"valor aproximado\", xn)\n",
        "      print(\"error =\", e)\n",
        "      break\n",
        "    "
      ],
      "execution_count": null,
      "outputs": []
    },
    {
      "cell_type": "markdown",
      "metadata": {
        "id": "Gr_qWUBxNt-J"
      },
      "source": [
        "# Ejercicio 4"
      ]
    },
    {
      "cell_type": "markdown",
      "metadata": {
        "id": "VnLCoZiSQCJl"
      },
      "source": [
        "### **Series de Taylor**"
      ]
    },
    {
      "cell_type": "markdown",
      "metadata": {
        "id": "oaS-97uGjT4R"
      },
      "source": [
        "Lá gráfica a continuacíon muestra como se aproximan las series de taylor a la función $ln(1+x)$ alrededor de $x=0$, se utiliza la siguiente ecuación:\n",
        "$$ln(1+x)=\\sum_{n=1}^∞(-1)^{n+1}\\frac{x^n}{n}=x-\\frac{x^2}{2}+\\frac{x^3}{3}-\\cdots$$ para $-1≤x≤1$"
      ]
    },
    {
      "cell_type": "code",
      "metadata": {
        "colab": {
          "base_uri": "https://localhost:8080/",
          "height": 337
        },
        "id": "iIWUksYqNyQY",
        "outputId": "02d1373b-ba35-4e9f-d0b9-3a14b3903359"
      },
      "source": [
        "# Cargar la subbiblioteca pytlot de Matplotlib y la biblioteca numpy \n",
        "import matplotlib.pyplot as plt\n",
        "import numpy as np\n",
        "\n",
        "# Gráfica de funciones \n",
        "# Definición de variables y funciones\n",
        "x = np.linspace(-1.5,1.5,100)  # arrego de 100 puntos entre -1.5 y 1.5\n",
        "y = np.log(1+x)      # y será también un arreglo de 100 puntos automáticamente \n",
        "\n",
        "# Series de Taylor de orden 4, 7, 11 y 16\n",
        "T4 = x - x**2/2 + x**3/3 - x**4/4 \n",
        "T7 = T4 + x**5/5 - x**6/6 + x**7/7\n",
        "T11 = T7 -x**8/8 + x**9/9 - x**10/10 + x**11/11\n",
        "T16 = T11 - x**12/12 + x**13/13 - x**14/14 + x**15/15  - x**16/16\n",
        " \n",
        "# Creación de la gráficas\n",
        "plt.subplot(111)\n",
        "plt.xlabel(\"Eje X\")\n",
        "plt.ylabel(\"Eje Y\")\n",
        "\n",
        "# Graficar varias funciones\n",
        "plt.plot(x,y, label=\"ln(1+x)\")\n",
        "plt.plot(x,T4, label=\"Serie Taylor orden 4\")\n",
        "plt.plot(x,T7, label=\"Serie Taylor orden 7\")\n",
        "plt.plot(x,T11, label=\"Serie Taylor orden 11\")\n",
        "plt.plot(x,T16, label=\"Serie Taylor orden 16\")\n",
        "\n",
        "# Agregar una malla\n",
        "plt.grid(True)\n",
        "\n",
        "# Fijar los límites en el eje Y.\n",
        "plt.ylim(-4, 2,)\n",
        "\n",
        "# Ubicación de las etiquetas de las funciones\n",
        "plt.legend(bbox_to_anchor=(0.443,1.017), loc=\"upper right\")\n",
        "plt.show()\n",
        "\n",
        "#plt.savefig('plot.png')  # Si se desea guardar en un archivo la imagen de la gráfica"
      ],
      "execution_count": 90,
      "outputs": [
        {
          "output_type": "stream",
          "text": [
            "/usr/local/lib/python3.6/dist-packages/ipykernel_launcher.py:8: RuntimeWarning: invalid value encountered in log\n",
            "  \n"
          ],
          "name": "stderr"
        },
        {
          "output_type": "display_data",
          "data": {
            "image/png": "[encoded data removed]",
            "text/plain": [
              "<Figure size 432x288 with 1 Axes>"
            ]
          },
          "metadata": {
            "tags": [],
            "needs_background": "light"
          }
        }
      ]
    },
    {
      "cell_type": "code",
      "metadata": {
        "id": "Q43KUSAXShvL"
      },
      "source": [
        ""
      ],
      "execution_count": null,
      "outputs": []
    }
  ]
}