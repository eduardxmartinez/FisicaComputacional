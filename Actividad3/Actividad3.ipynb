{
  "nbformat": 4,
  "nbformat_minor": 0,
  "metadata": {
    "colab": {
      "name": "Actividad3.ipynb",
      "provenance": []
    },
    "kernelspec": {
      "name": "python3",
      "display_name": "Python 3"
    }
  },
  "cells": [
    {
      "cell_type": "code",
      "metadata": {
        "id": "sf61YA3zyKGw"
      },
      "source": [
        "# Importamos numpy y panda, bibliotecas que se necesitan\n",
        "import numpy as np\n",
        "import pandas as pd\n",
        "\n",
        "# Tomar datos del url en formato \"raw\"\n",
        "url = 'https://raw.githubusercontent.com/eduardxmartinez/FisicaComputacional/master/Actividad1/2030.txt'\n",
        "\n",
        "# Definimos los nombres de las columnas\n",
        "# El archivo tiene códigos ASCII extendido (Español), encoding='cp1251' Windows (Europa Occidental)\n",
        "# El separador de datos es de uno o más espacios, sep='\\s+'\n",
        "# Se brincará los primeros 19 renglones y el último, afirmamos que no nay encabezado\n",
        "# Se procesan los datos utilizando Python, engine='python' \n",
        "my_cols = ['Fecha','Precip','Evap','Tmax','Tmin',]\n",
        "df_tkt = pd.read_csv(url, names=my_cols, encoding='cp1251', sep='\\s+', header=None, skiprows=19, skipfooter=1, engine='python') "
      ],
      "execution_count": 4,
      "outputs": []
    },
    {
      "cell_type": "code",
      "metadata": {
        "colab": {
          "base_uri": "https://localhost:8080/"
        },
        "id": "pNTtJZWuKbtz",
        "outputId": "3030fa1a-2408-41f9-abe2-326044d908d2"
      },
      "source": [
        "# Revisamos los primeros diez renglones y los últimos diez del dataframe\n",
        "print(df_tkt.head(10))\n",
        "print(df_tkt.tail(10))"
      ],
      "execution_count": 5,
      "outputs": [
        {
          "output_type": "stream",
          "text": [
            "        Fecha Precip  Evap  Tmax  Tmin\n",
            "0  01/01/1946      0  Nulo  Nulo  Nulo\n",
            "1  02/01/1946     21  Nulo  18.4  Nulo\n",
            "2  03/01/1946      0  Nulo  Nulo  Nulo\n",
            "3  04/01/1946    9.5  Nulo  11.1   1.1\n",
            "4  05/01/1946      0  Nulo    15   4.4\n",
            "5  06/01/1946    1.5  Nulo  15.5   1.6\n",
            "6  07/01/1946      0  Nulo  15.5   0.5\n",
            "7  08/01/1946      0  Nulo  13.3   0.5\n",
            "8  09/01/1946      0  Nulo  15.5  -2.2\n",
            "9  10/01/1946      0  Nulo  14.5  -1.1\n",
            "            Fecha Precip  Evap Tmax Tmin\n",
            "23074  22/10/2012      0  Nulo   23   12\n",
            "23075  23/10/2012      0  Nulo   22    9\n",
            "23076  24/10/2012      0  Nulo   27    9\n",
            "23077  25/10/2012      0  Nulo   27    6\n",
            "23078  26/10/2012      0  Nulo   28    8\n",
            "23079  27/10/2012      0  Nulo   33    6\n",
            "23080  28/10/2012      0  Nulo   34    8\n",
            "23081  29/10/2012      0  Nulo   31    9\n",
            "23082  30/10/2012      0  Nulo   31    9\n",
            "23083  31/10/2012      0  Nulo   27    9\n"
          ],
          "name": "stdout"
        }
      ]
    },
    {
      "cell_type": "code",
      "metadata": {
        "colab": {
          "base_uri": "https://localhost:8080/"
        },
        "id": "tLlopReFKgk2",
        "outputId": "f5373ffb-78f7-40bb-db9d-81b89ed42d9a"
      },
      "source": [
        "# Revisamos las dimensiones (renglones, columnas)\n",
        "df_tkt.shape"
      ],
      "execution_count": 6,
      "outputs": [
        {
          "output_type": "execute_result",
          "data": {
            "text/plain": [
              "(23084, 5)"
            ]
          },
          "metadata": {
            "tags": []
          },
          "execution_count": 6
        }
      ]
    },
    {
      "cell_type": "code",
      "metadata": {
        "colab": {
          "base_uri": "https://localhost:8080/"
        },
        "id": "WBjeAMmfKvmE",
        "outputId": "00d31c73-5ee9-4fca-8346-80f51738966f"
      },
      "source": [
        "# Información del dataframe\n",
        "df_tkt.info()"
      ],
      "execution_count": 7,
      "outputs": [
        {
          "output_type": "stream",
          "text": [
            "<class 'pandas.core.frame.DataFrame'>\n",
            "RangeIndex: 23084 entries, 0 to 23083\n",
            "Data columns (total 5 columns):\n",
            " #   Column  Non-Null Count  Dtype \n",
            "---  ------  --------------  ----- \n",
            " 0   Fecha   23084 non-null  object\n",
            " 1   Precip  23084 non-null  object\n",
            " 2   Evap    23084 non-null  object\n",
            " 3   Tmax    23084 non-null  object\n",
            " 4   Tmin    23084 non-null  object\n",
            "dtypes: object(5)\n",
            "memory usage: 901.8+ KB\n"
          ],
          "name": "stdout"
        }
      ]
    },
    {
      "cell_type": "code",
      "metadata": {
        "colab": {
          "base_uri": "https://localhost:8080/",
          "height": 204
        },
        "id": "jDzHDWtCLV71",
        "outputId": "116ef96a-2772-4b1c-ebcb-7fa023a762e8"
      },
      "source": [
        "# Hacemos una copia de trabajo y preservamos el dataframe original\n",
        "df_tkt0 = df_tkt.copy()\n",
        "df_tkt0.head()"
      ],
      "execution_count": 8,
      "outputs": [
        {
          "output_type": "execute_result",
          "data": {
            "text/html": [
              "<div>\n",
              "<style scoped>\n",
              "    .dataframe tbody tr th:only-of-type {\n",
              "        vertical-align: middle;\n",
              "    }\n",
              "\n",
              "    .dataframe tbody tr th {\n",
              "        vertical-align: top;\n",
              "    }\n",
              "\n",
              "    .dataframe thead th {\n",
              "        text-align: right;\n",
              "    }\n",
              "</style>\n",
              "<table border=\"1\" class=\"dataframe\">\n",
              "  <thead>\n",
              "    <tr style=\"text-align: right;\">\n",
              "      <th></th>\n",
              "      <th>Fecha</th>\n",
              "      <th>Precip</th>\n",
              "      <th>Evap</th>\n",
              "      <th>Tmax</th>\n",
              "      <th>Tmin</th>\n",
              "    </tr>\n",
              "  </thead>\n",
              "  <tbody>\n",
              "    <tr>\n",
              "      <th>0</th>\n",
              "      <td>01/01/1946</td>\n",
              "      <td>0</td>\n",
              "      <td>Nulo</td>\n",
              "      <td>Nulo</td>\n",
              "      <td>Nulo</td>\n",
              "    </tr>\n",
              "    <tr>\n",
              "      <th>1</th>\n",
              "      <td>02/01/1946</td>\n",
              "      <td>21</td>\n",
              "      <td>Nulo</td>\n",
              "      <td>18.4</td>\n",
              "      <td>Nulo</td>\n",
              "    </tr>\n",
              "    <tr>\n",
              "      <th>2</th>\n",
              "      <td>03/01/1946</td>\n",
              "      <td>0</td>\n",
              "      <td>Nulo</td>\n",
              "      <td>Nulo</td>\n",
              "      <td>Nulo</td>\n",
              "    </tr>\n",
              "    <tr>\n",
              "      <th>3</th>\n",
              "      <td>04/01/1946</td>\n",
              "      <td>9.5</td>\n",
              "      <td>Nulo</td>\n",
              "      <td>11.1</td>\n",
              "      <td>1.1</td>\n",
              "    </tr>\n",
              "    <tr>\n",
              "      <th>4</th>\n",
              "      <td>05/01/1946</td>\n",
              "      <td>0</td>\n",
              "      <td>Nulo</td>\n",
              "      <td>15</td>\n",
              "      <td>4.4</td>\n",
              "    </tr>\n",
              "  </tbody>\n",
              "</table>\n",
              "</div>"
            ],
            "text/plain": [
              "        Fecha Precip  Evap  Tmax  Tmin\n",
              "0  01/01/1946      0  Nulo  Nulo  Nulo\n",
              "1  02/01/1946     21  Nulo  18.4  Nulo\n",
              "2  03/01/1946      0  Nulo  Nulo  Nulo\n",
              "3  04/01/1946    9.5  Nulo  11.1   1.1\n",
              "4  05/01/1946      0  Nulo    15   4.4"
            ]
          },
          "metadata": {
            "tags": []
          },
          "execution_count": 8
        }
      ]
    },
    {
      "cell_type": "code",
      "metadata": {
        "colab": {
          "base_uri": "https://localhost:8080/"
        },
        "id": "weswy7CaJuzO",
        "outputId": "13bd0421-138b-4285-8719-6cbc461580d4"
      },
      "source": [
        "# Cambiamos la palabra nulo por un vacío y verificamos\n",
        "str_Nulo = 'Nulo'\n",
        "df_tkt1 = df_tkt0.replace(to_replace=str_Nulo, value='', regex=True)\n",
        "print(df_tkt1.head())\n",
        "print(df_tkt.tail())"
      ],
      "execution_count": 10,
      "outputs": [
        {
          "output_type": "stream",
          "text": [
            "        Fecha Precip Evap  Tmax Tmin\n",
            "0  01/01/1946      0                \n",
            "1  02/01/1946     21       18.4     \n",
            "2  03/01/1946      0                \n",
            "3  04/01/1946    9.5       11.1  1.1\n",
            "4  05/01/1946      0         15  4.4\n",
            "            Fecha Precip  Evap Tmax Tmin\n",
            "23079  27/10/2012      0  Nulo   33    6\n",
            "23080  28/10/2012      0  Nulo   34    8\n",
            "23081  29/10/2012      0  Nulo   31    9\n",
            "23082  30/10/2012      0  Nulo   31    9\n",
            "23083  31/10/2012      0  Nulo   27    9\n"
          ],
          "name": "stdout"
        }
      ]
    },
    {
      "cell_type": "code",
      "metadata": {
        "colab": {
          "base_uri": "https://localhost:8080/"
        },
        "id": "83x-4jMGL1Vj",
        "outputId": "37672bea-260e-4236-c4cd-012abe9320c6"
      },
      "source": [
        "# Convertimos los valores de las variables ambientales a números flotantes y verificamos \n",
        "cols_list = ['Precip', 'Evap', 'Tmax', 'Tmin']\n",
        "for cols in cols_list:\n",
        "  df_tkt1[cols] = pd.to_numeric(df_tkt0[cols], errors='coerce')\n",
        "df_tkt1.info()"
      ],
      "execution_count": 24,
      "outputs": [
        {
          "output_type": "stream",
          "text": [
            "<class 'pandas.core.frame.DataFrame'>\n",
            "RangeIndex: 23084 entries, 0 to 23083\n",
            "Data columns (total 5 columns):\n",
            " #   Column  Non-Null Count  Dtype  \n",
            "---  ------  --------------  -----  \n",
            " 0   Fecha   23084 non-null  object \n",
            " 1   Precip  23024 non-null  float64\n",
            " 2   Evap    4447 non-null   float64\n",
            " 3   Tmax    22382 non-null  float64\n",
            " 4   Tmin    22384 non-null  float64\n",
            "dtypes: float64(4), object(1)\n",
            "memory usage: 901.8+ KB\n"
          ],
          "name": "stdout"
        }
      ]
    },
    {
      "cell_type": "code",
      "metadata": {
        "colab": {
          "base_uri": "https://localhost:8080/"
        },
        "id": "80i4fyI9MGth",
        "outputId": "245b4aa7-cd85-47f6-ed9e-a29006c3548c"
      },
      "source": [
        "# Contabilizamos el número de datos faltantes en las variables y se suman los valores nulos\n",
        "df_tkt1.isnull().sum()"
      ],
      "execution_count": 25,
      "outputs": [
        {
          "output_type": "execute_result",
          "data": {
            "text/plain": [
              "Fecha         0\n",
              "Precip       60\n",
              "Evap      18637\n",
              "Tmax        702\n",
              "Tmin        700\n",
              "dtype: int64"
            ]
          },
          "metadata": {
            "tags": []
          },
          "execution_count": 25
        }
      ]
    },
    {
      "cell_type": "code",
      "metadata": {
        "colab": {
          "base_uri": "https://localhost:8080/"
        },
        "id": "UBHm0I1aMUVv",
        "outputId": "84086151-df75-40f2-8f9d-d83be8c88133"
      },
      "source": [
        "# Imprimimos nuevamente el encabezado y el final del dataframe\n",
        "print(df_tkt1.head())\n",
        "print(df_tkt1.tail())"
      ],
      "execution_count": 26,
      "outputs": [
        {
          "output_type": "stream",
          "text": [
            "        Fecha  Precip  Evap  Tmax  Tmin\n",
            "0  01/01/1946     0.0   NaN   NaN   NaN\n",
            "1  02/01/1946    21.0   NaN  18.4   NaN\n",
            "2  03/01/1946     0.0   NaN   NaN   NaN\n",
            "3  04/01/1946     9.5   NaN  11.1   1.1\n",
            "4  05/01/1946     0.0   NaN  15.0   4.4\n",
            "            Fecha  Precip  Evap  Tmax  Tmin\n",
            "23079  27/10/2012     0.0   NaN  33.0   6.0\n",
            "23080  28/10/2012     0.0   NaN  34.0   8.0\n",
            "23081  29/10/2012     0.0   NaN  31.0   9.0\n",
            "23082  30/10/2012     0.0   NaN  31.0   9.0\n",
            "23083  31/10/2012     0.0   NaN  27.0   9.0\n"
          ],
          "name": "stdout"
        }
      ]
    },
    {
      "cell_type": "code",
      "metadata": {
        "colab": {
          "base_uri": "https://localhost:8080/",
          "height": 297
        },
        "id": "ozmmq6NYMqTf",
        "outputId": "de9c8eb7-2b37-4e41-9373-c4917284c27a"
      },
      "source": [
        "# Estádistica básica de las variables númericas con redondeo a 2 cifras significativas\n",
        "df_tkt1.describe().round(2)"
      ],
      "execution_count": 27,
      "outputs": [
        {
          "output_type": "execute_result",
          "data": {
            "text/html": [
              "<div>\n",
              "<style scoped>\n",
              "    .dataframe tbody tr th:only-of-type {\n",
              "        vertical-align: middle;\n",
              "    }\n",
              "\n",
              "    .dataframe tbody tr th {\n",
              "        vertical-align: top;\n",
              "    }\n",
              "\n",
              "    .dataframe thead th {\n",
              "        text-align: right;\n",
              "    }\n",
              "</style>\n",
              "<table border=\"1\" class=\"dataframe\">\n",
              "  <thead>\n",
              "    <tr style=\"text-align: right;\">\n",
              "      <th></th>\n",
              "      <th>Precip</th>\n",
              "      <th>Evap</th>\n",
              "      <th>Tmax</th>\n",
              "      <th>Tmin</th>\n",
              "    </tr>\n",
              "  </thead>\n",
              "  <tbody>\n",
              "    <tr>\n",
              "      <th>count</th>\n",
              "      <td>23024.00</td>\n",
              "      <td>4447.00</td>\n",
              "      <td>22382.00</td>\n",
              "      <td>22384.00</td>\n",
              "    </tr>\n",
              "    <tr>\n",
              "      <th>mean</th>\n",
              "      <td>0.95</td>\n",
              "      <td>4.65</td>\n",
              "      <td>25.60</td>\n",
              "      <td>8.09</td>\n",
              "    </tr>\n",
              "    <tr>\n",
              "      <th>std</th>\n",
              "      <td>4.54</td>\n",
              "      <td>2.64</td>\n",
              "      <td>7.43</td>\n",
              "      <td>5.06</td>\n",
              "    </tr>\n",
              "    <tr>\n",
              "      <th>min</th>\n",
              "      <td>0.00</td>\n",
              "      <td>0.10</td>\n",
              "      <td>3.00</td>\n",
              "      <td>-9.00</td>\n",
              "    </tr>\n",
              "    <tr>\n",
              "      <th>25%</th>\n",
              "      <td>0.00</td>\n",
              "      <td>2.50</td>\n",
              "      <td>20.00</td>\n",
              "      <td>4.00</td>\n",
              "    </tr>\n",
              "    <tr>\n",
              "      <th>50%</th>\n",
              "      <td>0.00</td>\n",
              "      <td>4.30</td>\n",
              "      <td>26.00</td>\n",
              "      <td>8.00</td>\n",
              "    </tr>\n",
              "    <tr>\n",
              "      <th>75%</th>\n",
              "      <td>0.00</td>\n",
              "      <td>6.40</td>\n",
              "      <td>31.00</td>\n",
              "      <td>11.00</td>\n",
              "    </tr>\n",
              "    <tr>\n",
              "      <th>max</th>\n",
              "      <td>125.40</td>\n",
              "      <td>15.80</td>\n",
              "      <td>51.00</td>\n",
              "      <td>30.00</td>\n",
              "    </tr>\n",
              "  </tbody>\n",
              "</table>\n",
              "</div>"
            ],
            "text/plain": [
              "         Precip     Evap      Tmax      Tmin\n",
              "count  23024.00  4447.00  22382.00  22384.00\n",
              "mean       0.95     4.65     25.60      8.09\n",
              "std        4.54     2.64      7.43      5.06\n",
              "min        0.00     0.10      3.00     -9.00\n",
              "25%        0.00     2.50     20.00      4.00\n",
              "50%        0.00     4.30     26.00      8.00\n",
              "75%        0.00     6.40     31.00     11.00\n",
              "max      125.40    15.80     51.00     30.00"
            ]
          },
          "metadata": {
            "tags": []
          },
          "execution_count": 27
        }
      ]
    },
    {
      "cell_type": "markdown",
      "metadata": {
        "id": "ZC1PtcymovXe"
      },
      "source": [
        "**Fecha** \\\\\n",
        "Con ayuda de pandas transformaremos las fechas que estan como en objetos a una variable que python pueda reconocer como fecha. "
      ]
    },
    {
      "cell_type": "code",
      "metadata": {
        "colab": {
          "base_uri": "https://localhost:8080/"
        },
        "id": "FmgP3jGapJXt",
        "outputId": "c2065b00-a6e6-4862-fc35-60957b038a71"
      },
      "source": [
        "# Definimos un nuevo dataframe por si hay que regresarse.\n",
        "df_tkt2 = df_tkt1.copy()\n",
        "df_tkt2['Fecha'].head()"
      ],
      "execution_count": 28,
      "outputs": [
        {
          "output_type": "execute_result",
          "data": {
            "text/plain": [
              "0    01/01/1946\n",
              "1    02/01/1946\n",
              "2    03/01/1946\n",
              "3    04/01/1946\n",
              "4    05/01/1946\n",
              "Name: Fecha, dtype: object"
            ]
          },
          "metadata": {
            "tags": []
          },
          "execution_count": 28
        }
      ]
    },
    {
      "cell_type": "code",
      "metadata": {
        "colab": {
          "base_uri": "https://localhost:8080/"
        },
        "id": "7oABeLEypYvj",
        "outputId": "650e5f7b-0500-45d3-8395-4ea48292bab2"
      },
      "source": [
        "# Se convierte el objeto Fecha a variable fecha que python reconoce\n",
        "df_tkt2['Fecha'] = pd.to_datetime(df_tkt2['Fecha'], dayfirst=True).copy()\n",
        "print(df_tkt2.head())"
      ],
      "execution_count": 30,
      "outputs": [
        {
          "output_type": "stream",
          "text": [
            "       Fecha  Precip  Evap  Tmax  Tmin\n",
            "0 1946-01-01     0.0   NaN   NaN   NaN\n",
            "1 1946-01-02    21.0   NaN  18.4   NaN\n",
            "2 1946-01-03     0.0   NaN   NaN   NaN\n",
            "3 1946-01-04     9.5   NaN  11.1   1.1\n",
            "4 1946-01-05     0.0   NaN  15.0   4.4\n"
          ],
          "name": "stdout"
        }
      ]
    },
    {
      "cell_type": "code",
      "metadata": {
        "colab": {
          "base_uri": "https://localhost:8080/"
        },
        "id": "l9n5L89Pryhf",
        "outputId": "b7f582f7-4314-4972-e579-97b8a70c10df"
      },
      "source": [
        "# Verificamos que las variables son del tipo que las queremos\n",
        "df_tkt2.dtypes"
      ],
      "execution_count": 33,
      "outputs": [
        {
          "output_type": "execute_result",
          "data": {
            "text/plain": [
              "Fecha     datetime64[ns]\n",
              "Precip           float64\n",
              "Evap             float64\n",
              "Tmax             float64\n",
              "Tmin             float64\n",
              "dtype: object"
            ]
          },
          "metadata": {
            "tags": []
          },
          "execution_count": 33
        }
      ]
    },
    {
      "cell_type": "code",
      "metadata": {
        "colab": {
          "base_uri": "https://localhost:8080/"
        },
        "id": "8yN2FCeGs2X9",
        "outputId": "98093ca2-4cef-4e96-cb52-41ca591d54c1"
      },
      "source": [
        "# Añadimos dos columnas adicionales: df['Año'], df['Mes']\n",
        "# Usaremos la función .dt.year y .dt.month para extraer el Año y Mes de la Fecha\n",
        "df_tkt2['Año'] = df_tkt2['Fecha'].dt.year\n",
        "df_tkt2['Mes'] = df_tkt2['Fecha'].dt.month\n",
        "# Verificamos que se hayan creado de forma correcta\n",
        "# Tendremos ahora dos columnas adicionales de Año y Mes.\n",
        "print(df_tkt2.head())\n",
        "print(df_tkt2.tail())"
      ],
      "execution_count": 35,
      "outputs": [
        {
          "output_type": "stream",
          "text": [
            "       Fecha  Precip  Evap  Tmax  Tmin   Año  Mes\n",
            "0 1946-01-01     0.0   NaN   NaN   NaN  1946    1\n",
            "1 1946-01-02    21.0   NaN  18.4   NaN  1946    1\n",
            "2 1946-01-03     0.0   NaN   NaN   NaN  1946    1\n",
            "3 1946-01-04     9.5   NaN  11.1   1.1  1946    1\n",
            "4 1946-01-05     0.0   NaN  15.0   4.4  1946    1\n",
            "           Fecha  Precip  Evap  Tmax  Tmin   Año  Mes\n",
            "23079 2012-10-27     0.0   NaN  33.0   6.0  2012   10\n",
            "23080 2012-10-28     0.0   NaN  34.0   8.0  2012   10\n",
            "23081 2012-10-29     0.0   NaN  31.0   9.0  2012   10\n",
            "23082 2012-10-30     0.0   NaN  31.0   9.0  2012   10\n",
            "23083 2012-10-31     0.0   NaN  27.0   9.0  2012   10\n"
          ],
          "name": "stdout"
        }
      ]
    },
    {
      "cell_type": "code",
      "metadata": {
        "colab": {
          "base_uri": "https://localhost:8080/"
        },
        "id": "WvmTkB_XtrnD",
        "outputId": "215d8db8-85f4-423a-8049-21bf8a7130fd"
      },
      "source": [
        "# Verificamos que las variables Mes y Año son enteros\n",
        "df_tkt2.dtypes"
      ],
      "execution_count": 36,
      "outputs": [
        {
          "output_type": "execute_result",
          "data": {
            "text/plain": [
              "Fecha     datetime64[ns]\n",
              "Precip           float64\n",
              "Evap             float64\n",
              "Tmax             float64\n",
              "Tmin             float64\n",
              "Año                int64\n",
              "Mes                int64\n",
              "dtype: object"
            ]
          },
          "metadata": {
            "tags": []
          },
          "execution_count": 36
        }
      ]
    },
    {
      "cell_type": "code",
      "metadata": {
        "id": "10kQOjUMvBIH"
      },
      "source": [
        ""
      ],
      "execution_count": null,
      "outputs": []
    }
  ]
}